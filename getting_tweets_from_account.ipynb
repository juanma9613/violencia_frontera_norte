{
 "cells": [
  {
   "cell_type": "code",
   "execution_count": 1,
   "metadata": {},
   "outputs": [],
   "source": [
    "import tweepy\n",
    "from twarc import Twarc\n",
    "import pandas as pd\n",
    "import json\n",
    "\n",
    "with open('creds.json') as json_file:\n",
    "    creds = json.load(json_file)"
   ]
  },
  {
   "cell_type": "code",
   "execution_count": 2,
   "metadata": {},
   "outputs": [],
   "source": [
    "twarc_object = Twarc(creds[\"client_key\"], \n",
    "                     creds[\"client_secret\"], \n",
    "                     creds[\"access_token\"], \n",
    "                     creds[\"access_token_secret\"])"
   ]
  },
  {
   "cell_type": "code",
   "execution_count": 3,
   "metadata": {},
   "outputs": [
    {
     "data": {
      "text/plain": [
       "'DEFENSORIAEC'"
      ]
     },
     "execution_count": 3,
     "metadata": {},
     "output_type": "execute_result"
    }
   ],
   "source": [
    "user = \"@DEFENSORIAEC\"\n",
    "\n",
    "user = user.replace(\"@\",\"\")\n",
    "\n",
    "user"
   ]
  },
  {
   "cell_type": "code",
   "execution_count": 4,
   "metadata": {},
   "outputs": [],
   "source": [
    "\n",
    "tweets = []\n",
    "retweets = []\n",
    "for tweet in twarc_object.timeline(screen_name=user,\n",
    "                                   since_id = None,\n",
    "                                   max_pages=2):\n",
    "    current_id = tweet[\"id\"]\n",
    "    # getting tweets\n",
    "    if ('RT @' not in tweet[\"full_text\"]): \n",
    "        tweets.append(tweet)\n",
    "    # getting retweets\n",
    "    else:\n",
    "        retweets.append(tweet)\n"
   ]
  },
  {
   "cell_type": "code",
   "execution_count": 5,
   "metadata": {},
   "outputs": [],
   "source": [
    "texts = []\n",
    "for idx, tweet in enumerate(tweets):\n",
    "    texts.append(tweet[\"full_text\"])"
   ]
  },
  {
   "cell_type": "code",
   "execution_count": 6,
   "metadata": {},
   "outputs": [
    {
     "data": {
      "text/html": [
       "<div>\n",
       "<style scoped>\n",
       "    .dataframe tbody tr th:only-of-type {\n",
       "        vertical-align: middle;\n",
       "    }\n",
       "\n",
       "    .dataframe tbody tr th {\n",
       "        vertical-align: top;\n",
       "    }\n",
       "\n",
       "    .dataframe thead th {\n",
       "        text-align: right;\n",
       "    }\n",
       "</style>\n",
       "<table border=\"1\" class=\"dataframe\">\n",
       "  <thead>\n",
       "    <tr style=\"text-align: right;\">\n",
       "      <th></th>\n",
       "      <th>0</th>\n",
       "    </tr>\n",
       "  </thead>\n",
       "  <tbody>\n",
       "    <tr>\n",
       "      <td>0</td>\n",
       "      <td>Noticia | Compartimos publicación de la Asocia...</td>\n",
       "    </tr>\n",
       "    <tr>\n",
       "      <td>1</td>\n",
       "      <td>... Dr. Freddy Carrión Intriago: \"Somos el seg...</td>\n",
       "    </tr>\n",
       "    <tr>\n",
       "      <td>2</td>\n",
       "      <td>... lo cual no permite conocer cuántas vacunas...</td>\n",
       "    </tr>\n",
       "    <tr>\n",
       "      <td>3</td>\n",
       "      <td>Dr. Freddy Carrión Intriago: \"La información e...</td>\n",
       "    </tr>\n",
       "    <tr>\n",
       "      <td>4</td>\n",
       "      <td>... Además, tuvimos otras denuncias al respect...</td>\n",
       "    </tr>\n",
       "    <tr>\n",
       "      <td>...</td>\n",
       "      <td>...</td>\n",
       "    </tr>\n",
       "    <tr>\n",
       "      <td>346</td>\n",
       "      <td>Video | Dr. Freddy Carrión Intriago, expresa p...</td>\n",
       "    </tr>\n",
       "    <tr>\n",
       "      <td>347</td>\n",
       "      <td>@nkdici @lahoraecuador @eluniversocom @Expreso...</td>\n",
       "    </tr>\n",
       "    <tr>\n",
       "      <td>348</td>\n",
       "      <td>@fredarri @lahoraecuador @eluniversocom @TVCEl...</td>\n",
       "    </tr>\n",
       "    <tr>\n",
       "      <td>349</td>\n",
       "      <td>#ATENCIÓN | La #DefensoríaDelPueblo exhorta al...</td>\n",
       "    </tr>\n",
       "    <tr>\n",
       "      <td>350</td>\n",
       "      <td>No permitas que tus #Derechos sean vulnerados ...</td>\n",
       "    </tr>\n",
       "  </tbody>\n",
       "</table>\n",
       "<p>351 rows × 1 columns</p>\n",
       "</div>"
      ],
      "text/plain": [
       "                                                     0\n",
       "0    Noticia | Compartimos publicación de la Asocia...\n",
       "1    ... Dr. Freddy Carrión Intriago: \"Somos el seg...\n",
       "2    ... lo cual no permite conocer cuántas vacunas...\n",
       "3    Dr. Freddy Carrión Intriago: \"La información e...\n",
       "4    ... Además, tuvimos otras denuncias al respect...\n",
       "..                                                 ...\n",
       "346  Video | Dr. Freddy Carrión Intriago, expresa p...\n",
       "347  @nkdici @lahoraecuador @eluniversocom @Expreso...\n",
       "348  @fredarri @lahoraecuador @eluniversocom @TVCEl...\n",
       "349  #ATENCIÓN | La #DefensoríaDelPueblo exhorta al...\n",
       "350  No permitas que tus #Derechos sean vulnerados ...\n",
       "\n",
       "[351 rows x 1 columns]"
      ]
     },
     "execution_count": 6,
     "metadata": {},
     "output_type": "execute_result"
    }
   ],
   "source": [
    "pd.DataFrame(texts)"
   ]
  },
  {
   "cell_type": "code",
   "execution_count": null,
   "metadata": {},
   "outputs": [],
   "source": []
  }
 ],
 "metadata": {
  "kernelspec": {
   "display_name": "Python 3",
   "language": "python",
   "name": "python3"
  },
  "language_info": {
   "codemirror_mode": {
    "name": "ipython",
    "version": 3
   },
   "file_extension": ".py",
   "mimetype": "text/x-python",
   "name": "python",
   "nbconvert_exporter": "python",
   "pygments_lexer": "ipython3",
   "version": "3.7.4"
  }
 },
 "nbformat": 4,
 "nbformat_minor": 4
}
